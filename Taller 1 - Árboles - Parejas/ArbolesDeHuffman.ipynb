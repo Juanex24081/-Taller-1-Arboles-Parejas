{
 "cells": [
  {
   "cell_type": "markdown",
   "id": "d737d061",
   "metadata": {},
   "source": [
    "## Árboles De Huffman"
   ]
  },
  {
   "cell_type": "markdown",
   "id": "f856b847",
   "metadata": {},
   "source": [
    "Un árbol de Huffman es un árbol binario que representa la manera más eficiente de codificar un conjunto de símbolos\n",
    "con diferentes frecuencias de aparición."
   ]
  },
  {
   "cell_type": "markdown",
   "id": "f6d2ddf4",
   "metadata": {},
   "source": [
    "# ¿Cómo funciona?"
   ]
  },
  {
   "cell_type": "markdown",
   "id": "2795bde7",
   "metadata": {},
   "source": [
    "1. Frecuencias: \n",
    "\n",
    "    - Se parte de una lista de símbolos junto con su frecuencia de aparición o probabilidad.\n",
    "\n",
    "2. Construcción del árbol:\n",
    "\n",
    "    - Se crean nodos para cada símbolo y se colocan en una cola de prioridad (mínima).\n",
    "    - Se extraen los dos nodos con menor frecuencia.\n",
    "    - Se combinan en un nuevo nodo cuyo peso es la suma de ambos.\n",
    "    - Este nuevo nodo se reintroduce en la cola.\n",
    "    - Se repite hasta que queda un solo nodo: la raíz del árbol.\n",
    "\n",
    "3. Codificación:\n",
    "\n",
    "    - Se recorre el árbol desde la raíz hasta cada hoja (símbolo).\n",
    "    - Cada izquierda se codifica como '0', cada derecha como '1'.\n",
    "    - Así, se asignan códigos binarios más cortos a los símbolos más frecuentes y más largos a los menos frecuentes."
   ]
  },
  {
   "cell_type": "markdown",
   "id": "3e39577b",
   "metadata": {},
   "source": [
    "# Ejemplo:"
   ]
  },
  {
   "cell_type": "code",
   "execution_count": 1,
   "id": "d333a951",
   "metadata": {},
   "outputs": [],
   "source": [
    "import heapq\n",
    "\n",
    "class NodoHuffman:\n",
    "    def __init__(self, simbolo, frecuencia):\n",
    "        self.simbolo = simbolo\n",
    "        self.frecuencia = frecuencia\n",
    "        self.izq = None\n",
    "        self.der = None\n",
    "\n",
    "    def __lt__(self, otro):\n",
    "        return self.frecuencia < otro.frecuencia\n",
    "\n",
    "def construir_arbol_huffman(frecuencias):\n",
    "    cola = [NodoHuffman(simb, freq) for simb, freq in frecuencias.items()]\n",
    "    heapq.heapify(cola)\n",
    "\n",
    "    while len(cola) > 1:\n",
    "        nodo1 = heapq.heappop(cola)\n",
    "        nodo2 = heapq.heappop(cola)\n",
    "\n",
    "        nuevo_nodo = NodoHuffman(None, nodo1.frecuencia + nodo2.frecuencia)\n",
    "        nuevo_nodo.izq = nodo1\n",
    "        nuevo_nodo.der = nodo2\n",
    "\n",
    "        heapq.heappush(cola, nuevo_nodo)\n",
    "\n",
    "    return cola[0]\n",
    "\n",
    "def obtener_codigos(nodo, codigo='', codigos=None):\n",
    "    if codigos is None:\n",
    "        codigos = {}\n",
    "    if nodo.simbolo is not None:\n",
    "        codigos[nodo.simbolo] = codigo\n",
    "    else:\n",
    "        obtener_codigos(nodo.izq, codigo + '0', codigos)\n",
    "        obtener_codigos(nodo.der, codigo + '1', codigos)\n",
    "    return codigos\n"
   ]
  },
  {
   "cell_type": "code",
   "execution_count": 2,
   "id": "42aae305",
   "metadata": {},
   "outputs": [
    {
     "name": "stdout",
     "output_type": "stream",
     "text": [
      "F: 0\n",
      "C: 100\n",
      "D: 101\n",
      "A: 1100\n",
      "B: 1101\n",
      "E: 111\n"
     ]
    }
   ],
   "source": [
    "frecuencias = {\n",
    "    'A': 5,\n",
    "    'B': 9,\n",
    "    'C': 12,\n",
    "    'D': 13,\n",
    "    'E': 16,\n",
    "    'F': 45\n",
    "}\n",
    "\n",
    "arbol = construir_arbol_huffman(frecuencias)\n",
    "codigos = obtener_codigos(arbol)\n",
    "\n",
    "for simb, codigo in codigos.items():\n",
    "    print(f'{simb}: {codigo}')\n"
   ]
  }
 ],
 "metadata": {
  "kernelspec": {
   "display_name": "Python 3",
   "language": "python",
   "name": "python3"
  },
  "language_info": {
   "codemirror_mode": {
    "name": "ipython",
    "version": 3
   },
   "file_extension": ".py",
   "mimetype": "text/x-python",
   "name": "python",
   "nbconvert_exporter": "python",
   "pygments_lexer": "ipython3",
   "version": "3.12.10"
  }
 },
 "nbformat": 4,
 "nbformat_minor": 5
}
